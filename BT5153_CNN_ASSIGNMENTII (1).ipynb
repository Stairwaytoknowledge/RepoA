{
 "cells": [
  {
   "cell_type": "markdown",
   "metadata": {},
   "source": [
    "## BT5153 Assignment II\n",
    "### How CNN see and understand Images"
   ]
  },
  {
   "cell_type": "markdown",
   "metadata": {},
   "source": [
    "*  **Due on 03 April 2020, Friday at 23:59pm**\n",
    "*  **Submit your solution notebook to \"LumiNUS -> Files->HW2-Assignment**"
   ]
  },
  {
   "cell_type": "markdown",
   "metadata": {},
   "source": [
    "The convolutional network (CNN), that is especially suited for feature extraction of image data. A CNN is a neural network typically composed of two components:\n",
    "1. one component for extracting useful features of the data: **Convolutional Layer** and **Pooling Layer**\n",
    "\n",
    "2. another for performing a ML task (like classification based on the featurized data): **Fully-connected Layer**"
   ]
  },
  {
   "cell_type": "markdown",
   "metadata": {},
   "source": [
    "In this assignment, we will focus on feature extraction parts behind CNN, i.e., convolutional layer and pooling layer. We hope you can gain more understanding about CNN through this section. "
   ]
  },
  {
   "cell_type": "markdown",
   "metadata": {},
   "source": [
    "##### Filter Operation"
   ]
  },
  {
   "cell_type": "markdown",
   "metadata": {},
   "source": [
    "<img src=\"filter.gif\" width=\"400\" align=\"center\">"
   ]
  },
  {
   "cell_type": "markdown",
   "metadata": {},
   "source": [
    "##### Pooling Operation"
   ]
  },
  {
   "cell_type": "markdown",
   "metadata": {},
   "source": [
    "![pool](pool.png)"
   ]
  },
  {
   "cell_type": "markdown",
   "metadata": {},
   "source": [
    "### Warm-Up"
   ]
  },
  {
   "cell_type": "markdown",
   "metadata": {},
   "source": [
    "Prepare the image \"T\" as a 2D Numpy array. And visualize it."
   ]
  },
  {
   "cell_type": "code",
   "execution_count": 1,
   "metadata": {},
   "outputs": [],
   "source": [
    "import numpy as np\n",
    "img = np.array([\n",
    "[1,1,1,1,1,1],\n",
    "[1,1,1,1,1,1],\n",
    "[0,0,1,1,0,0],\n",
    "[0,0,1,1,0,0],\n",
    "[0,0,1,1,0,0],\n",
    "[0,0,1,1,0,0],]\n",
    ")"
   ]
  },
  {
   "cell_type": "code",
   "execution_count": 2,
   "metadata": {},
   "outputs": [
    {
     "data": {
      "text/plain": [
       "<matplotlib.image.AxesImage at 0x1dfab56d2e8>"
      ]
     },
     "execution_count": 2,
     "metadata": {},
     "output_type": "execute_result"
    },
    {
     "data": {
      "image/png": "[encoded data removed]",
      "text/plain": [
       "<Figure size 432x288 with 1 Axes>"
      ]
     },
     "metadata": {
      "needs_background": "light"
     },
     "output_type": "display_data"
    }
   ],
   "source": [
    "%matplotlib inline\n",
    "from matplotlib import pyplot as plt\n",
    "plt.imshow(img, cmap='gray')"
   ]
  },
  {
   "cell_type": "markdown",
   "metadata": {},
   "source": [
    "Generate the kernel"
   ]
  },
  {
   "cell_type": "code",
   "execution_count": 3,
   "metadata": {},
   "outputs": [],
   "source": [
    "filters = np.array([[1, 1, 1],\n",
    "                  [1, 1, 1],\n",
    "                  [0, 0, 0]])"
   ]
  },
  {
   "cell_type": "markdown",
   "metadata": {},
   "source": [
    "Use this kernel and convolve over the image with same border mode (with [scipy.signal.convolve2d](https://docs.scipy.org/doc/scipy/reference/generated/scipy.signal.convolve2d.html)).**"
   ]
  },
  {
   "cell_type": "code",
   "execution_count": 4,
   "metadata": {},
   "outputs": [],
   "source": [
    "from scipy.signal import convolve2d\n",
    "fil_imgs = convolve2d(img, filters, mode='same')"
   ]
  },
  {
   "cell_type": "markdown",
   "metadata": {},
   "source": [
    "Plot the image."
   ]
  },
  {
   "cell_type": "code",
   "execution_count": 5,
   "metadata": {},
   "outputs": [
    {
     "data": {
      "text/plain": [
       "<matplotlib.image.AxesImage at 0x1dfac36b668>"
      ]
     },
     "execution_count": 5,
     "metadata": {},
     "output_type": "execute_result"
    },
    {
     "data": {
      "image/png": "[encoded data removed]",
      "text/plain": [
       "<Figure size 432x288 with 1 Axes>"
      ]
     },
     "metadata": {
      "needs_background": "light"
     },
     "output_type": "display_data"
    }
   ],
   "source": [
    "plt.imshow(fil_imgs, cmap='gray')"
   ]
  },
  {
   "cell_type": "markdown",
   "metadata": {},
   "source": [
    "Take a moment to examine the convolved images. You should see that convolutional filters can both accentuate and dampen specific features in input images such as curves, edges or colours. ."
   ]
  },
  {
   "cell_type": "markdown",
   "metadata": {},
   "source": [
    "Now you may design a new filter as [[1, 1, 0], [1, 1, 0],[1, 1, 0]]. And check the results"
   ]
  },
  {
   "cell_type": "code",
   "execution_count": 6,
   "metadata": {},
   "outputs": [],
   "source": [
    "filters_2 = np.array([[1, 1, 0],\n",
    "                      [1, 1, 0],\n",
    "                      [1,1, 0]])"
   ]
  },
  {
   "cell_type": "code",
   "execution_count": 7,
   "metadata": {},
   "outputs": [
    {
     "data": {
      "text/plain": [
       "array([[1, 1, 0],\n",
       "       [1, 1, 0],\n",
       "       [1, 1, 0]])"
      ]
     },
     "execution_count": 7,
     "metadata": {},
     "output_type": "execute_result"
    }
   ],
   "source": [
    "filters_2"
   ]
  },
  {
   "cell_type": "code",
   "execution_count": 8,
   "metadata": {},
   "outputs": [
    {
     "data": {
      "text/plain": [
       "<matplotlib.image.AxesImage at 0x1dfac3e0240>"
      ]
     },
     "execution_count": 8,
     "metadata": {},
     "output_type": "execute_result"
    },
    {
     "data": {
      "image/png": "[encoded data removed]",
      "text/plain": [
       "<Figure size 432x288 with 1 Axes>"
      ]
     },
     "metadata": {
      "needs_background": "light"
     },
     "output_type": "display_data"
    }
   ],
   "source": [
    "fil_imgs2 = convolve2d(img, filters_2, mode='same')\n",
    "plt.imshow(fil_imgs2, cmap='gray')"
   ]
  },
  {
   "cell_type": "markdown",
   "metadata": {},
   "source": [
    "1. **Different convolutional filters extract different features** \n",
    "2. it is the combination of the resulting feature maps that powers the CNNs predictions. \n",
    "3. In the following, we add non-linear activation and pooling functions on a real image"
   ]
  },
  {
   "cell_type": "markdown",
   "metadata": {},
   "source": [
    "### Part 2:  Pokemon Convolution!\n",
    "\n",
    "Yup, it is not Pokemon go."
   ]
  },
  {
   "cell_type": "markdown",
   "metadata": {},
   "source": [
    "\n",
    "**Exercise #1: Apply the Edge detection filter on the Pokemon?  (3 points)**\n"
   ]
  },
  {
   "cell_type": "markdown",
   "metadata": {},
   "source": [
    "Consider the following image of a pikka, which you will find in `pokemon.png`:\n",
    "\n",
    "![pik](pokemon.png)\n",
    "\n",
    "The image is already normalized into the scale [0, 1].\n",
    "\n",
    "**Perform the following steps for four images:**\n",
    "\n",
    "**1. Create the edge detection filter.**\n",
    "\n",
    "As shown in the slide\n",
    "\n",
    "**2. Use this kernel and convolve over the image with same border mode (with [scipy.signal.convolve2d])**\n",
    "\n",
    "**3. Plot the image**\n",
    "\n",
    "**4. In the resulting image, set all pixel values less than zero to zero (using np.clip()). In other words:**\n",
    "\n",
    "\n",
    "`\n",
    "if x < 0:\n",
    "    x = 0\n",
    "else:\n",
    "    x = x\n",
    "`\n",
    "\n",
    "(What is the non-linear activation function?)"
   ]
  },
  {
   "cell_type": "code",
   "execution_count": 9,
   "metadata": {},
   "outputs": [],
   "source": [
    "from matplotlib.image import imread\n",
    "import numpy as np\n",
    "img = imread('pokemon.png')"
   ]
  },
  {
   "cell_type": "code",
   "execution_count": 10,
   "metadata": {},
   "outputs": [
    {
     "data": {
      "text/plain": [
       "<matplotlib.image.AxesImage at 0x1dfac4412b0>"
      ]
     },
     "execution_count": 10,
     "metadata": {},
     "output_type": "execute_result"
    },
    {
     "data": {
      "image/png": "[encoded data removed]",
      "text/plain": [
       "<Figure size 432x288 with 1 Axes>"
      ]
     },
     "metadata": {
      "needs_background": "light"
     },
     "output_type": "display_data"
    }
   ],
   "source": [
    "plt.imshow(img, cmap='gray')"
   ]
  },
  {
   "cell_type": "code",
   "execution_count": 11,
   "metadata": {},
   "outputs": [
    {
     "name": "stdout",
     "output_type": "stream",
     "text": [
      "1.0 0.0\n"
     ]
    }
   ],
   "source": [
    "print(img.max(), img.min())"
   ]
  },
  {
   "cell_type": "code",
   "execution_count": 12,
   "metadata": {},
   "outputs": [
    {
     "data": {
      "text/plain": [
       "(183, 275)"
      ]
     },
     "execution_count": 12,
     "metadata": {},
     "output_type": "execute_result"
    }
   ],
   "source": [
    "img.shape"
   ]
  },
  {
   "cell_type": "code",
   "execution_count": 13,
   "metadata": {},
   "outputs": [],
   "source": [
    "# generate one kernel for edge detection\n",
    "#kernel = np.array(3 BY 3 MATRIX)\n",
    "#kernel = np.array([[1, 1, 1],[1, 1, 1],[0, 0, 0]])\n",
    "\n",
    "#kernel = np.array([[1, 1, 0],[1, 1, 0],[1,1, 0]])\n",
    "#kernel = np.array([[1,0,1],[1,0,1],[1,0,1]])\n",
    "kernel = np.array([[-1,0,1],[-1,0,1],[-1,0,1]])"
   ]
  },
  {
   "cell_type": "code",
   "execution_count": 14,
   "metadata": {},
   "outputs": [
    {
     "name": "stdout",
     "output_type": "stream",
     "text": [
      "[[-1  0  1]\n",
      " [-1  0  1]\n",
      " [-1  0  1]]\n"
     ]
    }
   ],
   "source": [
    "print(kernel)"
   ]
  },
  {
   "cell_type": "code",
   "execution_count": 15,
   "metadata": {},
   "outputs": [],
   "source": [
    "#conv_img =  convolve2d(PUT THE IMAGE AND FILTER AND SET THE BORDER MODE)\n",
    "conv_img = convolve2d(img,kernel,mode = 'same')"
   ]
  },
  {
   "cell_type": "code",
   "execution_count": 16,
   "metadata": {
    "scrolled": false
   },
   "outputs": [
    {
     "data": {
      "text/plain": [
       "<matplotlib.image.AxesImage at 0x1dfad474f28>"
      ]
     },
     "execution_count": 16,
     "metadata": {},
     "output_type": "execute_result"
    },
    {
     "data": {
      "image/png": "[encoded data removed]",
      "text/plain": [
       "<Figure size 432x288 with 1 Axes>"
      ]
     },
     "metadata": {
      "needs_background": "light"
     },
     "output_type": "display_data"
    }
   ],
   "source": [
    "# here assume the conv_img is the output of the filter operation\n",
    "plt.imshow(conv_img, cmap='gray')"
   ]
  },
  {
   "cell_type": "code",
   "execution_count": 17,
   "metadata": {},
   "outputs": [],
   "source": [
    "# here assume the conv_img_nonlinear is the output of the POOLING operation\n",
    "conv_img_nonlinear = np.clip(conv_img, 0,1)"
   ]
  },
  {
   "cell_type": "code",
   "execution_count": 18,
   "metadata": {},
   "outputs": [
    {
     "data": {
      "text/plain": [
       "<matplotlib.image.AxesImage at 0x1dfad4d5f28>"
      ]
     },
     "execution_count": 18,
     "metadata": {},
     "output_type": "execute_result"
    },
    {
     "data": {
      "image/png": "[encoded data removed]",
      "text/plain": [
       "<Figure size 432x288 with 1 Axes>"
      ]
     },
     "metadata": {
      "needs_background": "light"
     },
     "output_type": "display_data"
    }
   ],
   "source": [
    "# here assume the conv_img_nonlinear is the output of the filter operation\n",
    "plt.imshow(conv_img_nonlinear,cmap='gray')"
   ]
  },
  {
   "cell_type": "markdown",
   "metadata": {},
   "source": [
    "https://en.wikipedia.org/wiki/Grayscale"
   ]
  },
  {
   "cell_type": "markdown",
   "metadata": {},
   "source": [
    "**Exercise #2:  (3 points)**\n",
    "\n",
    "**1. Apply max-pooling operation over the image Here, the pooling size is set to (2, 2)**\n",
    "\n",
    "Hint:\n",
    "(https://stackoverflow.com/questions/42463172/how-to-perform-max-mean-pooling-on-a-2d-array-using-numpy)\n",
    "\n",
    "\n",
    "**2. Plot the final image.**\n",
    "\n",
    "**3. Change the pooling sizes and check its effects on the generated feature maps.**"
   ]
  },
  {
   "cell_type": "code",
   "execution_count": 19,
   "metadata": {},
   "outputs": [],
   "source": [
    "# here assume the pool_img is the output of the pooling operation\n",
    "#pool_img\n",
    "def pool3D(arr,\n",
    "           kernel=(2, 2, 2),\n",
    "           stride=(1, 1, 1),\n",
    "           func=np.nanmax,\n",
    "           ):\n",
    "    # check inputs\n",
    "    assert arr.ndim == 3\n",
    "    assert len(kernel) == 3\n",
    "\n",
    "    # create array with lots of padding around it, from which we grab stuff (could be more efficient, yes)\n",
    "    arr_padded_shape = arr.shape + 2 * np.array(kernel)\n",
    "    arr_padded = np.zeros(arr_padded_shape, dtype=arr.dtype) * np.nan\n",
    "    arr_padded[\n",
    "    kernel[0]:kernel[0] + arr.shape[0],\n",
    "    kernel[1]:kernel[1] + arr.shape[1],\n",
    "    kernel[2]:kernel[2] + arr.shape[2],\n",
    "    ] = arr\n",
    "\n",
    "    # create temporary array, which aggregates kernel elements in last axis\n",
    "    size_x = 1 + (arr.shape[0]-1) // stride[0]\n",
    "    size_y = 1 + (arr.shape[1]-1) // stride[1]\n",
    "    size_z = 1 + (arr.shape[2]-1) // stride[2]\n",
    "    size_kernel = np.prod(kernel)\n",
    "    arr_tmp = np.empty((size_x, size_y, size_z, size_kernel), dtype=arr.dtype)\n",
    "\n",
    "    # fill temporary array\n",
    "    kx_center = (kernel[0] - 1) // 2\n",
    "    ky_center = (kernel[1] - 1) // 2\n",
    "    kz_center = (kernel[2] - 1) // 2\n",
    "    idx_kernel = 0\n",
    "    for kx in range(kernel[0]):\n",
    "        dx = kernel[0] + kx - kx_center\n",
    "        for ky in range(kernel[1]):\n",
    "            dy = kernel[1] + ky - ky_center\n",
    "            for kz in range(kernel[2]):\n",
    "                dz = kernel[2] + kz - kz_center\n",
    "                arr_tmp[:, :, :, idx_kernel] = arr_padded[\n",
    "                                               dx:dx + arr.shape[0]:stride[0],\n",
    "                                               dy:dy + arr.shape[1]:stride[1],\n",
    "                                               dz:dz + arr.shape[2]:stride[2],\n",
    "                                               ]\n",
    "                idx_kernel += 1\n",
    "\n",
    "    # perform pool function\n",
    "    arr_final = func(arr_tmp, axis=-1)\n",
    "    return arr_final\n",
    "\n",
    "def pool2D(arr,\n",
    "           kernel=(2, 2),\n",
    "           stride=(1, 1),\n",
    "           func=np.nanmax,\n",
    "           ):\n",
    "    # check inputs\n",
    "    assert arr.ndim == 2\n",
    "    assert len(kernel) == 2\n",
    "\n",
    "    # transform into 3D array with empty dimension?\n",
    "    arr3D = arr[..., np.newaxis]\n",
    "    kernel3D = kernel + (1,)\n",
    "    stride3D = stride + (1,)\n",
    "    arr3D_final = pool3D(arr3D, kernel3D, stride3D, func)\n",
    "    arr2D_final = arr3D_final[:, :, 0]\n",
    "\n",
    "    return arr2D_final\n",
    "pool_img = pool2D(conv_img_nonlinear)"
   ]
  },
  {
   "cell_type": "code",
   "execution_count": 20,
   "metadata": {},
   "outputs": [
    {
     "data": {
      "text/plain": [
       "<matplotlib.image.AxesImage at 0x1dfad54e4a8>"
      ]
     },
     "execution_count": 20,
     "metadata": {},
     "output_type": "execute_result"
    },
    {
     "data": {
      "image/png": "[encoded data removed]",
      "text/plain": [
       "<Figure size 432x288 with 1 Axes>"
      ]
     },
     "metadata": {
      "needs_background": "light"
     },
     "output_type": "display_data"
    }
   ],
   "source": [
    "# here assume the conv_img_nonlinear is the output of the filter operation\n",
    "plt.imshow(pool_img,cmap='gray')"
   ]
  },
  {
   "cell_type": "code",
   "execution_count": 21,
   "metadata": {},
   "outputs": [],
   "source": [
    "# Then, this vector can be fed into the dense layers to predict the label\n",
    "final_vec = pool_img.flatten()"
   ]
  },
  {
   "cell_type": "markdown",
   "metadata": {},
   "source": [
    "Fortunately, we do not need to implement Convolutional and Pooling layer from stratch. In keras tutorial, we have already built a CNN model for Fashion-MNIST data. The gradients can be automatically computed and the model weights can then be learned. Then, we may ask ourselves What does a CNN learn? \n",
    "\n",
    "Let us firstly modify the CNN code for week5 notebook (make it 'simpler')"
   ]
  },
  {
   "cell_type": "code",
   "execution_count": 22,
   "metadata": {},
   "outputs": [
    {
     "name": "stderr",
     "output_type": "stream",
     "text": [
      "Using TensorFlow backend.\n"
     ]
    }
   ],
   "source": [
    "from keras.layers import Conv2D, MaxPooling2D, Input, Flatten, Dense, Dropout\n",
    "from keras.models import Sequential\n",
    "import keras\n",
    "data = keras.datasets.fashion_mnist\n",
    "(x_train_all, y_train_all), (x_test_all, y_test_all) = data.load_data()"
   ]
  },
  {
   "cell_type": "code",
   "execution_count": 23,
   "metadata": {},
   "outputs": [],
   "source": [
    "class_names = [ \"T-shirt/top\", \"Trouser\", \"Pullover\", \n",
    "                \"Dress\", \"Coat\", \"Sandal\", \"Shirt\",\n",
    "                \"Sneaker\", \"Bag\", \"Ankle boot\" ]\n",
    "# take images from only two class: Sneaker and Ankle boot\n",
    "x_train = x_train_all[(y_train_all == 7) | (y_train_all == 9)]\n",
    "y_train = y_train_all[(y_train_all == 7) | (y_train_all == 9)]\n",
    "y_train[y_train==7] = 0\n",
    "y_train[y_train==9] = 1"
   ]
  },
  {
   "cell_type": "code",
   "execution_count": 24,
   "metadata": {},
   "outputs": [
    {
     "data": {
      "text/plain": [
       "(12000, 28, 28)"
      ]
     },
     "execution_count": 24,
     "metadata": {},
     "output_type": "execute_result"
    }
   ],
   "source": [
    "x_train.shape"
   ]
  },
  {
   "cell_type": "code",
   "execution_count": 25,
   "metadata": {},
   "outputs": [],
   "source": [
    "x_test = x_test_all[(y_test_all == 7) | (y_test_all == 9)]\n",
    "y_test = y_test_all[(y_test_all == 7) | (y_test_all == 9)]\n",
    "y_test[y_test==7] = 0\n",
    "y_test[y_test==9] = 1"
   ]
  },
  {
   "cell_type": "code",
   "execution_count": 26,
   "metadata": {},
   "outputs": [
    {
     "data": {
      "text/plain": [
       "(2000, 28, 28)"
      ]
     },
     "execution_count": 26,
     "metadata": {},
     "output_type": "execute_result"
    }
   ],
   "source": [
    "x_test.shape"
   ]
  },
  {
   "cell_type": "code",
   "execution_count": 27,
   "metadata": {},
   "outputs": [
    {
     "data": {
      "text/plain": [
       "array([1, 0, 1, ..., 1, 0, 0], dtype=uint8)"
      ]
     },
     "execution_count": 27,
     "metadata": {},
     "output_type": "execute_result"
    }
   ],
   "source": [
    "y_train"
   ]
  },
  {
   "cell_type": "code",
   "execution_count": 28,
   "metadata": {},
   "outputs": [],
   "source": [
    "x_train = x_train.reshape(12000, 28, 28, 1)\n",
    "x_test  = x_test.reshape(2000, 28, 28, 1)\n",
    "\n",
    "x_val, x_train = x_train[:1000] / 255.0, x_train[1000:] / 255.0\n",
    "y_val, y_train = y_train[:1000] , y_train[1000:] "
   ]
  },
  {
   "cell_type": "code",
   "execution_count": 29,
   "metadata": {},
   "outputs": [
    {
     "data": {
      "text/plain": [
       "(11000, 28, 28, 1)"
      ]
     },
     "execution_count": 29,
     "metadata": {},
     "output_type": "execute_result"
    }
   ],
   "source": [
    "x_train.shape"
   ]
  },
  {
   "cell_type": "code",
   "execution_count": 30,
   "metadata": {},
   "outputs": [
    {
     "name": "stdout",
     "output_type": "stream",
     "text": [
      "WARNING:tensorflow:From C:\\Users\\Sid\\Anaconda3\\lib\\site-packages\\tensorflow_core\\python\\ops\\resource_variable_ops.py:1630: calling BaseResourceVariable.__init__ (from tensorflow.python.ops.resource_variable_ops) with constraint is deprecated and will be removed in a future version.\n",
      "Instructions for updating:\n",
      "If using Keras pass *_constraint arguments to layers.\n",
      "WARNING:tensorflow:From C:\\Users\\Sid\\Anaconda3\\lib\\site-packages\\keras\\backend\\tensorflow_backend.py:4070: The name tf.nn.max_pool is deprecated. Please use tf.nn.max_pool2d instead.\n",
      "\n",
      "WARNING:tensorflow:From C:\\Users\\Sid\\Anaconda3\\lib\\site-packages\\tensorflow_core\\python\\ops\\nn_impl.py:183: where (from tensorflow.python.ops.array_ops) is deprecated and will be removed in a future version.\n",
      "Instructions for updating:\n",
      "Use tf.where in 2.0, which has the same broadcast rule as np.where\n"
     ]
    }
   ],
   "source": [
    "kernel_size = (3, 3)\n",
    "stride_size = (1, 1)\n",
    "num_filters = 4\n",
    "\n",
    "cnn_model = Sequential()\n",
    "# feature extraction layer 0: convolution\n",
    "cnn_model.add(Conv2D(num_filters, \n",
    "                     kernel_size=kernel_size,\n",
    "                     activation='relu',\n",
    "                     input_shape=(28, 28, 1)))\n",
    "weights = cnn_model.get_weights()\n",
    "# feature extraction layer 1: max pooling\n",
    "cnn_model.add(MaxPooling2D(pool_size=(2, 2)))\n",
    "# classification layer 2: flattening\n",
    "cnn_model.add(Flatten())\n",
    "# classification layer 3: dense non-linear transformation\n",
    "cnn_model.add(Dense(100, activation='relu'))\n",
    "# classification layer 4: output label probability\n",
    "cnn_model.add(Dense(1, activation='sigmoid'))\n",
    "\n",
    "cnn_model.compile(loss='binary_crossentropy',\n",
    "                  optimizer=keras.optimizers.adam(lr=0.01),\n",
    "                  metrics=['accuracy'])"
   ]
  },
  {
   "cell_type": "code",
   "execution_count": 31,
   "metadata": {},
   "outputs": [
    {
     "name": "stdout",
     "output_type": "stream",
     "text": [
      "WARNING:tensorflow:From C:\\Users\\Sid\\Anaconda3\\lib\\site-packages\\keras\\backend\\tensorflow_backend.py:422: The name tf.global_variables is deprecated. Please use tf.compat.v1.global_variables instead.\n",
      "\n",
      "Train on 11000 samples, validate on 1000 samples\n",
      "Epoch 1/20\n",
      "11000/11000 [==============================] - 4s 368us/step - loss: 0.1311 - accuracy: 0.9506 - val_loss: 0.0722 - val_accuracy: 0.9760\n",
      "Epoch 2/20\n",
      "11000/11000 [==============================] - 3s 304us/step - loss: 0.0819 - accuracy: 0.9678 - val_loss: 0.0588 - val_accuracy: 0.9750\n",
      "Epoch 3/20\n",
      "11000/11000 [==============================] - 3s 304us/step - loss: 0.0724 - accuracy: 0.9722 - val_loss: 0.0674 - val_accuracy: 0.9750\n",
      "Epoch 4/20\n",
      "11000/11000 [==============================] - 3s 279us/step - loss: 0.0673 - accuracy: 0.9751 - val_loss: 0.0659 - val_accuracy: 0.9780\n",
      "Epoch 5/20\n",
      "11000/11000 [==============================] - 3s 287us/step - loss: 0.0634 - accuracy: 0.9736 - val_loss: 0.0695 - val_accuracy: 0.9750\n",
      "Epoch 6/20\n",
      "11000/11000 [==============================] - 4s 352us/step - loss: 0.0571 - accuracy: 0.9780 - val_loss: 0.0592 - val_accuracy: 0.9800\n",
      "Epoch 7/20\n",
      "11000/11000 [==============================] - 4s 339us/step - loss: 0.0524 - accuracy: 0.9789 - val_loss: 0.0670 - val_accuracy: 0.9770\n",
      "Epoch 8/20\n",
      "11000/11000 [==============================] - 3s 313us/step - loss: 0.0462 - accuracy: 0.9815 - val_loss: 0.0749 - val_accuracy: 0.9760\n",
      "Epoch 9/20\n",
      "11000/11000 [==============================] - 3s 286us/step - loss: 0.0400 - accuracy: 0.9845 - val_loss: 0.0807 - val_accuracy: 0.9710\n",
      "Epoch 10/20\n",
      "11000/11000 [==============================] - 3s 280us/step - loss: 0.0319 - accuracy: 0.9873 - val_loss: 0.1012 - val_accuracy: 0.9720\n",
      "Epoch 11/20\n",
      "11000/11000 [==============================] - 3s 280us/step - loss: 0.0372 - accuracy: 0.9844 - val_loss: 0.0855 - val_accuracy: 0.9800\n",
      "Epoch 12/20\n",
      "11000/11000 [==============================] - 3s 287us/step - loss: 0.0266 - accuracy: 0.9891 - val_loss: 0.1031 - val_accuracy: 0.9740\n",
      "Epoch 13/20\n",
      "11000/11000 [==============================] - 3s 274us/step - loss: 0.0252 - accuracy: 0.9889 - val_loss: 0.1850 - val_accuracy: 0.9640\n",
      "Epoch 14/20\n",
      "11000/11000 [==============================] - 3s 289us/step - loss: 0.0391 - accuracy: 0.9865 - val_loss: 0.0956 - val_accuracy: 0.9710\n",
      "Epoch 15/20\n",
      "11000/11000 [==============================] - 3s 281us/step - loss: 0.0238 - accuracy: 0.9905 - val_loss: 0.1151 - val_accuracy: 0.9790\n",
      "Epoch 16/20\n",
      "11000/11000 [==============================] - 3s 302us/step - loss: 0.0189 - accuracy: 0.9932 - val_loss: 0.1259 - val_accuracy: 0.9720\n",
      "Epoch 17/20\n",
      "11000/11000 [==============================] - 4s 334us/step - loss: 0.0165 - accuracy: 0.9931 - val_loss: 0.1336 - val_accuracy: 0.9740\n",
      "Epoch 18/20\n",
      "11000/11000 [==============================] - 3s 307us/step - loss: 0.0133 - accuracy: 0.9965 - val_loss: 0.1799 - val_accuracy: 0.9760\n",
      "Epoch 19/20\n",
      "11000/11000 [==============================] - 4s 338us/step - loss: 0.0250 - accuracy: 0.9918 - val_loss: 0.1740 - val_accuracy: 0.9720\n",
      "Epoch 20/20\n",
      "11000/11000 [==============================] - 3s 302us/step - loss: 0.0117 - accuracy: 0.9954 - val_loss: 0.1824 - val_accuracy: 0.9720\n"
     ]
    }
   ],
   "source": [
    "history = cnn_model.fit(x_train, \n",
    "                        y_train, \n",
    "                        epochs=20,\n",
    "                        validation_data=(x_val, y_val))"
   ]
  },
  {
   "cell_type": "markdown",
   "metadata": {},
   "source": [
    "## C. Let us crack the above CNN open\n",
    "\n",
    "**What does CNN learn?** \n",
    "\n",
    "Now we want to get an intuitive understanding of what hidden layers i.e., conv. layers and pooling layers in a CNN are learning from the data.\n",
    "\n",
    "Here, we are trying to find the answers from two persepctives. \n",
    "\n",
    "1. Visualize the learned filter weights.\n",
    "\n",
    "2. Visualize the hidden layers' outputs given input images\n",
    "\n",
    "\n",
    "**Exercise #3: visualize the weights of the filters in the above CNN model. Explain how each filter is applied to the input image. (6 points)**\n",
    "\n",
    "**Hint**: Firstly, find the number of filters. And then, how about the filter size?\n",
    "\n",
    "**Hint**: Conv-Layer in Keras contain two kinds of weights: one is filter weights and bias weights. Here, we are only interested at the filter weights.\n",
    "\n",
    "**Hint**: https://ai-pool.com/d/how-to-get-the-weights-of-keras-model-"
   ]
  },
  {
   "cell_type": "code",
   "execution_count": 32,
   "metadata": {},
   "outputs": [],
   "source": [
    "# function to visualize images or weights from vector or matrix in grey scale\n",
    "def plot_fig(figax, img, image_shape):\n",
    "    vmax = max(img.max(), -img.min())\n",
    "    figax.imshow(img.reshape(image_shape), cmap=plt.cm.gray,\n",
    "                 vmin=-vmax, vmax=vmax)\n",
    "    return figax"
   ]
  },
  {
   "cell_type": "code",
   "execution_count": 33,
   "metadata": {},
   "outputs": [
    {
     "data": {
      "image/png": "[encoded data removed]",
      "text/plain": [
       "<Figure size 360x576 with 2 Axes>"
      ]
     },
     "metadata": {
      "needs_background": "light"
     },
     "output_type": "display_data"
    }
   ],
   "source": [
    "# let us visualize two of the input images\n",
    "fig, ax = plt.subplots(2, 1, figsize=(5, 8))\n",
    "boot_x = x_train[0,:,:]\n",
    "sneaker_x   = x_train[1,:,:]\n",
    "ax[0] = plot_fig(ax[0], boot_x, (28, 28))\n",
    "ax[1] = plot_fig(ax[1], sneaker_x, (28, 28))"
   ]
  },
  {
   "cell_type": "code",
   "execution_count": 34,
   "metadata": {},
   "outputs": [],
   "source": [
    "for layer in cnn_model.layers:\n",
    "    weights = layer.get_weights()\n",
    "    \n"
   ]
  },
  {
   "cell_type": "code",
   "execution_count": 35,
   "metadata": {
    "scrolled": true
   },
   "outputs": [
    {
     "data": {
      "text/plain": [
       "{'name': 'sequential_1',\n",
       " 'layers': [{'class_name': 'Conv2D',\n",
       "   'config': {'name': 'conv2d_1',\n",
       "    'trainable': True,\n",
       "    'batch_input_shape': (None, 28, 28, 1),\n",
       "    'dtype': 'float32',\n",
       "    'filters': 4,\n",
       "    'kernel_size': (3, 3),\n",
       "    'strides': (1, 1),\n",
       "    'padding': 'valid',\n",
       "    'data_format': 'channels_last',\n",
       "    'dilation_rate': (1, 1),\n",
       "    'activation': 'relu',\n",
       "    'use_bias': True,\n",
       "    'kernel_initializer': {'class_name': 'VarianceScaling',\n",
       "     'config': {'scale': 1.0,\n",
       "      'mode': 'fan_avg',\n",
       "      'distribution': 'uniform',\n",
       "      'seed': None}},\n",
       "    'bias_initializer': {'class_name': 'Zeros', 'config': {}},\n",
       "    'kernel_regularizer': None,\n",
       "    'bias_regularizer': None,\n",
       "    'activity_regularizer': None,\n",
       "    'kernel_constraint': None,\n",
       "    'bias_constraint': None}},\n",
       "  {'class_name': 'MaxPooling2D',\n",
       "   'config': {'name': 'max_pooling2d_1',\n",
       "    'trainable': True,\n",
       "    'dtype': 'float32',\n",
       "    'pool_size': (2, 2),\n",
       "    'padding': 'valid',\n",
       "    'strides': (2, 2),\n",
       "    'data_format': 'channels_last'}},\n",
       "  {'class_name': 'Flatten',\n",
       "   'config': {'name': 'flatten_1',\n",
       "    'trainable': True,\n",
       "    'dtype': 'float32',\n",
       "    'data_format': 'channels_last'}},\n",
       "  {'class_name': 'Dense',\n",
       "   'config': {'name': 'dense_1',\n",
       "    'trainable': True,\n",
       "    'dtype': 'float32',\n",
       "    'units': 100,\n",
       "    'activation': 'relu',\n",
       "    'use_bias': True,\n",
       "    'kernel_initializer': {'class_name': 'VarianceScaling',\n",
       "     'config': {'scale': 1.0,\n",
       "      'mode': 'fan_avg',\n",
       "      'distribution': 'uniform',\n",
       "      'seed': None}},\n",
       "    'bias_initializer': {'class_name': 'Zeros', 'config': {}},\n",
       "    'kernel_regularizer': None,\n",
       "    'bias_regularizer': None,\n",
       "    'activity_regularizer': None,\n",
       "    'kernel_constraint': None,\n",
       "    'bias_constraint': None}},\n",
       "  {'class_name': 'Dense',\n",
       "   'config': {'name': 'dense_2',\n",
       "    'trainable': True,\n",
       "    'dtype': 'float32',\n",
       "    'units': 1,\n",
       "    'activation': 'sigmoid',\n",
       "    'use_bias': True,\n",
       "    'kernel_initializer': {'class_name': 'VarianceScaling',\n",
       "     'config': {'scale': 1.0,\n",
       "      'mode': 'fan_avg',\n",
       "      'distribution': 'uniform',\n",
       "      'seed': None}},\n",
       "    'bias_initializer': {'class_name': 'Zeros', 'config': {}},\n",
       "    'kernel_regularizer': None,\n",
       "    'bias_regularizer': None,\n",
       "    'activity_regularizer': None,\n",
       "    'kernel_constraint': None,\n",
       "    'bias_constraint': None}}]}"
      ]
     },
     "execution_count": 35,
     "metadata": {},
     "output_type": "execute_result"
    }
   ],
   "source": [
    "cnn_model.get_config()"
   ]
  },
  {
   "cell_type": "code",
   "execution_count": 36,
   "metadata": {},
   "outputs": [
    {
     "name": "stdout",
     "output_type": "stream",
     "text": [
      "Model: \"sequential_1\"\n",
      "_________________________________________________________________\n",
      "Layer (type)                 Output Shape              Param #   \n",
      "=================================================================\n",
      "conv2d_1 (Conv2D)            (None, 26, 26, 4)         40        \n",
      "_________________________________________________________________\n",
      "max_pooling2d_1 (MaxPooling2 (None, 13, 13, 4)         0         \n",
      "_________________________________________________________________\n",
      "flatten_1 (Flatten)          (None, 676)               0         \n",
      "_________________________________________________________________\n",
      "dense_1 (Dense)              (None, 100)               67700     \n",
      "_________________________________________________________________\n",
      "dense_2 (Dense)              (None, 1)                 101       \n",
      "=================================================================\n",
      "Total params: 67,841\n",
      "Trainable params: 67,841\n",
      "Non-trainable params: 0\n",
      "_________________________________________________________________\n"
     ]
    }
   ],
   "source": [
    "cnn_model.summary()"
   ]
  },
  {
   "cell_type": "code",
   "execution_count": 37,
   "metadata": {
    "scrolled": false
   },
   "outputs": [],
   "source": [
    "for layerNum, layer in enumerate(cnn_model.layers):\n",
    "    weights = layer.get_weights()\n",
    "    #biases = layer.get_weights()\n",
    "    \n",
    "    #for toNeuronNum, bias in enumerate(biases):\n",
    "      #  print(f'{layerNum}B->L{layerNum+1}N{toNeuronNum}:{bias}')\n",
    "        \n",
    " #   for fromNeuronNum, wgt in enumerate(weights):\n",
    " #       for fromNeuronNum, wgt2 in enumerate(wgt):\n",
    " #           print(f'L{layerNum}N{fromNeuronNum}->L{layerNum+1}N{toNeuronNum} = {wgt2}')\n",
    "    "
   ]
  },
  {
   "cell_type": "code",
   "execution_count": 38,
   "metadata": {},
   "outputs": [
    {
     "data": {
      "text/plain": [
       "array([0.2663068], dtype=float32)"
      ]
     },
     "execution_count": 38,
     "metadata": {},
     "output_type": "execute_result"
    }
   ],
   "source": [
    "weights[0][2]\n",
    "\n"
   ]
  },
  {
   "cell_type": "code",
   "execution_count": 40,
   "metadata": {},
   "outputs": [
    {
     "name": "stdout",
     "output_type": "stream",
     "text": [
      "conv2d_1 (3, 3, 1, 4)\n"
     ]
    }
   ],
   "source": [
    "# summarize filter shapes\n",
    "for layer in cnn_model.layers:\n",
    "    # check for convolutional layer\n",
    "    if 'conv' not in layer.name:\n",
    "        continue\n",
    "    filters,biases = layer.get_weights()\n",
    "    print(layer.name,filters.shape)"
   ]
  },
  {
   "cell_type": "code",
   "execution_count": 41,
   "metadata": {},
   "outputs": [],
   "source": [
    "for layer in cnn_model.layers:\n",
    "    # check for convolutional layer\n",
    "    if 'conv' in layer.name:\n",
    "        continue\n",
    "        filters,biases = layer.get_weights()\n",
    "        print(layer.name,filters.shape)"
   ]
  },
  {
   "cell_type": "code",
   "execution_count": 42,
   "metadata": {},
   "outputs": [],
   "source": [
    "# normalize filter values to 0-1 so we can visualize them\n",
    "f_min, f_max = filters.min(), filters.max()\n",
    "filters = (filters - f_min) / (f_max - f_min)"
   ]
  },
  {
   "cell_type": "code",
   "execution_count": 43,
   "metadata": {
    "scrolled": true
   },
   "outputs": [
    {
     "data": {
      "text/plain": [
       "(3, 3, 1, 4)"
      ]
     },
     "execution_count": 43,
     "metadata": {},
     "output_type": "execute_result"
    }
   ],
   "source": [
    "filters.shape\n"
   ]
  },
  {
   "cell_type": "code",
   "execution_count": 44,
   "metadata": {},
   "outputs": [
    {
     "data": {
      "image/png": "[encoded data removed]",
      "text/plain": [
       "<Figure size 720x360 with 4 Axes>"
      ]
     },
     "metadata": {
      "needs_background": "light"
     },
     "output_type": "display_data"
    }
   ],
   "source": [
    "# we visualize the four filters we learned\n",
    "fig, ax = plt.subplots(1, 4, figsize=(10, 5))\n",
    "\n",
    "\n",
    "ax[0] = plot_fig(ax[0], filters[:,:,:,0].reshape(3,3), (3, 3))\n",
    "ax[1] = plot_fig(ax[1], filters[:,:,:,1].reshape(3,3), (3, 3))\n",
    "ax[2] = plot_fig(ax[2], filters[:,:,:,2].reshape(3,3), (3, 3))\n",
    "ax[3] = plot_fig(ax[3], filters[:,:,:,3].reshape(3,3), (3, 3))\n",
    "#ax[0] = plot_fig(ax[0], WEIGHTS for the first filter, (3, 3))\n",
    "#ax[1] = plot_fig(ax[1], WEIGHTS for the second filter, (3, 3))\n",
    "#ax[2] = plot_fig(ax[2],  WEIGHTS for the third filter, (3, 3))\n",
    "#ax[3] = plot_fig(ax[3],  WEIGHTS for the fourth filter, (3, 3))\n",
    "plt.show()"
   ]
  },
  {
   "cell_type": "markdown",
   "metadata": {},
   "source": [
    "**Exercise #4: visualize the output of the convolutional layer and the pooling layer separately. Describe how each layer has transformed the data. (8 points)** "
   ]
  },
  {
   "cell_type": "markdown",
   "metadata": {},
   "source": [
    "**Hint**: https://keras.io/getting-started/faq/#how-can-i-obtain-the-output-of-an-intermediate-layer\n",
    "\n",
    "**Hint**: In the first week's notebook session, we talked about the sklearn model can only take two-dimensional data as inputs. Here, you may encounter the similar issue. Then, np.expand_dims may be helpful."
   ]
  },
  {
   "cell_type": "code",
   "execution_count": 45,
   "metadata": {},
   "outputs": [],
   "source": [
    "# using the backend.function in keras\n",
    "from keras import backend as K\n",
    "get_conv_layer_output = K.function([cnn_model.layers[0].input],\n",
    "                                  [cnn_model.layers[0].output])"
   ]
  },
  {
   "cell_type": "code",
   "execution_count": 46,
   "metadata": {},
   "outputs": [
    {
     "data": {
      "text/plain": [
       "<tf.Tensor 'conv2d_1/Relu:0' shape=(?, 26, 26, 4) dtype=float32>"
      ]
     },
     "execution_count": 46,
     "metadata": {},
     "output_type": "execute_result"
    }
   ],
   "source": [
    "cnn_model.layers[0].output\n"
   ]
  },
  {
   "cell_type": "code",
   "execution_count": 48,
   "metadata": {},
   "outputs": [
    {
     "name": "stdout",
     "output_type": "stream",
     "text": [
      "(28, 28, 1)\n"
     ]
    }
   ],
   "source": [
    "\n",
    "print(boot_x.shape)\n",
    "#get the conv-output of the boot image\n",
    "     \n",
    "layer_outputforboot = get_conv_layer_output(np.expand_dims(boot_x,axis =0))[0]\n",
    "#layer_outputforboot = get_conv_layer_output()[0]"
   ]
  },
  {
   "cell_type": "code",
   "execution_count": 50,
   "metadata": {},
   "outputs": [
    {
     "data": {
      "text/plain": [
       "(1, 26, 26, 4)"
      ]
     },
     "execution_count": 50,
     "metadata": {},
     "output_type": "execute_result"
    }
   ],
   "source": [
    "layer_outputforboot.shape\n",
    "\n"
   ]
  },
  {
   "cell_type": "code",
   "execution_count": 51,
   "metadata": {
    "scrolled": true
   },
   "outputs": [
    {
     "data": {
      "image/png": "[encoded data removed]",
      "text/plain": [
       "<Figure size 720x360 with 4 Axes>"
      ]
     },
     "metadata": {
      "needs_background": "light"
     },
     "output_type": "display_data"
    }
   ],
   "source": [
    "# visualize a training image \"boot_x\" after it passes through the above four filters\n",
    "fig, ax = plt.subplots(1, 4, figsize=(10, 5))\n",
    "#plt.matshow(first_layer_activation[0, :, :, 1], cmap='viridis')\n",
    "\n",
    "ax[0] = plot_fig(ax[0], layer_outputforboot[0,:,:,0], (26, 26))\n",
    "ax[1] = plot_fig(ax[1], layer_outputforboot[0,:,:,1], (26, 26))\n",
    "ax[2] = plot_fig(ax[2], layer_outputforboot[0,:,:,2], (26, 26))\n",
    "ax[3] = plot_fig(ax[3], layer_outputforboot[0,:,:,3], (26, 26))\n",
    "#ax[1] = plot_fig(ax[1], FEATURE MAP of the second filter on boot_x, (26, 26))\n",
    "#ax[2] = plot_fig(ax[2], FEATURE MAP of the third filter on boot_x, (26, 26))\n",
    "#ax[3] = plot_fig(ax[3], FEATURE MAP of the fourth filter on boot_x, (26, 26))\n",
    "plt.show()"
   ]
  },
  {
   "cell_type": "code",
   "execution_count": 52,
   "metadata": {},
   "outputs": [],
   "source": [
    "#get the conv-output of the sneaker image\n",
    "layer_outputforsneaker = get_conv_layer_output(np.expand_dims(sneaker_x,axis =0))[0]"
   ]
  },
  {
   "cell_type": "code",
   "execution_count": 53,
   "metadata": {},
   "outputs": [
    {
     "data": {
      "image/png": "[encoded data removed]",
      "text/plain": [
       "<Figure size 720x360 with 4 Axes>"
      ]
     },
     "metadata": {
      "needs_background": "light"
     },
     "output_type": "display_data"
    }
   ],
   "source": [
    "# visualize a training image \"sneaker_x\" after it passes through the above four filters\n",
    "fig, ax = plt.subplots(1, 4, figsize=(10, 5))\n",
    "\n",
    "ax[0] = plot_fig(ax[0], layer_outputforsneaker[0,:,:,0], (26, 26))\n",
    "ax[1] = plot_fig(ax[1], layer_outputforsneaker[0,:,:,1], (26, 26))\n",
    "ax[2] = plot_fig(ax[2], layer_outputforsneaker[0,:,:,2], (26, 26))\n",
    "ax[3] = plot_fig(ax[3], layer_outputforsneaker[0,:,:,3], (26, 26))\n",
    "\n",
    "#ax[0] = plot_fig(ax[0], FEATURE MAP of the first filter on sneaker_x, (26, 26))\n",
    "#ax[1] = plot_fig(ax[1], FEATURE MAP of the second filter on sneaker_x, (26, 26))\n",
    "#ax[2] = plot_fig(ax[2], FEATURE MAP of the third filter on sneaker_x, (26, 26))\n",
    "#ax[3] = plot_fig(ax[3], FEATURE MAP of the fourth filter on sneaker_x, (26, 26))\n",
    "plt.show()"
   ]
  },
  {
   "cell_type": "markdown",
   "metadata": {},
   "source": [
    "#### Pooling Layer"
   ]
  },
  {
   "cell_type": "code",
   "execution_count": 69,
   "metadata": {},
   "outputs": [],
   "source": [
    "get_pool_layer_output = K.function([cnn_model.layers[0].input],cnn_model.layers[1].output)\n",
    "#get_pool_layer_output = K.function([cnn_model.layers[0].input], PUT POOL-LAYER-OUTPUT HERE)\n",
    "pool_outputforboot = get_pool_layer_output(np.expand_dims(boot_x,axis =0))[0] "
   ]
  },
  {
   "cell_type": "code",
   "execution_count": 70,
   "metadata": {},
   "outputs": [
    {
     "data": {
      "text/plain": [
       "(13, 13, 4)"
      ]
     },
     "execution_count": 70,
     "metadata": {},
     "output_type": "execute_result"
    }
   ],
   "source": [
    "pool_outputforboot.shape"
   ]
  },
  {
   "cell_type": "code",
   "execution_count": 74,
   "metadata": {},
   "outputs": [
    {
     "data": {
      "image/png": "[encoded data removed]",
      "text/plain": [
       "<Figure size 720x360 with 4 Axes>"
      ]
     },
     "metadata": {
      "needs_background": "light"
     },
     "output_type": "display_data"
    }
   ],
   "source": [
    "# visualize the training image \"boot_x\" after it passes through the above four filters + pooling layer\n",
    "fig, ax = plt.subplots(1, 4, figsize=(10, 5))\n",
    "ax[0] = plot_fig(ax[0], pool_outputforboot[:,:,0], (13,13))\n",
    "ax[1] = plot_fig(ax[1], pool_outputforboot[:,:,1], (13,13))\n",
    "ax[2] = plot_fig(ax[2], pool_outputforboot[:,:,2], (13,13))\n",
    "ax[3] = plot_fig(ax[3], pool_outputforboot[:,:,3], (13,13))\n",
    "\n",
    "\n",
    "#ax[0] = plot_fig(ax[0], OUTPUT of the first filter+pooling layer on boot_x, (13, 13))\n",
    "#ax[1] = plot_fig(ax[1], OUTPUT of the second filter+pooling layer on boot_x, (13, 13))\n",
    "#ax[2] = plot_fig(ax[2], OUTPUT of the third filter+pooling layer on boot_x, (13, 13))\n",
    "#ax[3] = plot_fig(ax[3], OUTPUT of the fourth filter+pooling layer on boot_x, (13, 13))\n",
    "plt.show()"
   ]
  },
  {
   "cell_type": "code",
   "execution_count": 76,
   "metadata": {},
   "outputs": [
    {
     "data": {
      "image/png": "[encoded data removed]",
      "text/plain": [
       "<Figure size 720x360 with 4 Axes>"
      ]
     },
     "metadata": {
      "needs_background": "light"
     },
     "output_type": "display_data"
    }
   ],
   "source": [
    "#pool_outputforboot = get_pool_layer_output(PUT SNEAKER IMAGE)[0] \n",
    "pool_outputforsneaker = get_pool_layer_output(np.expand_dims(sneaker_x,axis =0))[0] \n",
    "# visualize the training image \"sneaker_x\" after it passes through the above four filters + pooling layer\n",
    "fig, ax = plt.subplots(1, 4, figsize=(10, 5))\n",
    "ax[0] = plot_fig(ax[0], pool_outputforsneaker[:,:,0], (13,13))\n",
    "ax[1] = plot_fig(ax[1], pool_outputforsneaker[:,:,1], (13,13))\n",
    "ax[2] = plot_fig(ax[2], pool_outputforsneaker[:,:,2], (13,13))\n",
    "ax[3] = plot_fig(ax[3], pool_outputforsneaker[:,:,3], (13,13))\n",
    "#ax[0] = plot_fig(ax[0], OUTPUT of the first filter+pooling layer on sneaker_x, (13, 13))\n",
    "#ax[1] = plot_fig(ax[1], OUTPUT of the second filter+pooling layer on sneaker_x, (13, 13))\n",
    "#ax[2] = plot_fig(ax[2], OUTPUT of the third filter+pooling layer on sneaker_x, (13, 13))\n",
    "#ax[3] = plot_fig(ax[3], OUTPUT of the fourth filter+pooling layer on sneaker_x, (13, 13))\n",
    "plt.show()"
   ]
  },
  {
   "cell_type": "markdown",
   "metadata": {},
   "source": [
    "**Through this homework, we hope you can find the evidences that Conv-layer and pooling-layer in CNN are especailly suitable for feature extraction of image data.**"
   ]
  }
 ],
 "metadata": {
  "celltoolbar": "Raw Cell Format",
  "kernelspec": {
   "display_name": "Python 3",
   "language": "python",
   "name": "python3"
  },
  "language_info": {
   "codemirror_mode": {
    "name": "ipython",
    "version": 3
   },
   "file_extension": ".py",
   "mimetype": "text/x-python",
   "name": "python",
   "nbconvert_exporter": "python",
   "pygments_lexer": "ipython3",
   "version": "3.7.3"
  }
 },
 "nbformat": 4,
 "nbformat_minor": 1
}
